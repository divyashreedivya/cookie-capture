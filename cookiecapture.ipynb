{
 "cells": [
  {
   "cell_type": "markdown",
   "source": [
    "# Cookie Capture"
   ],
   "metadata": {}
  },
  {
   "cell_type": "code",
   "execution_count": null,
   "source": [
    "import pyshark\n",
    "import nest_asyncio"
   ],
   "outputs": [],
   "metadata": {}
  },
  {
   "cell_type": "code",
   "execution_count": null,
   "source": [
    "nest_asyncio.apply()"
   ],
   "outputs": [],
   "metadata": {}
  },
  {
   "cell_type": "code",
   "execution_count": null,
   "source": [
    "filename = './sample2.pcapng'\n",
    "cap = pyshark.FileCapture(filename,display_filter='http')"
   ],
   "outputs": [],
   "metadata": {}
  },
  {
   "cell_type": "code",
   "execution_count": null,
   "source": [
    "for pkt in cap:\n",
    "    try:\n",
    "        if 'cookie' in pkt.http.field_names:\n",
    "            print('\\033[94mCookie: \\x1B[37m',pkt.http.cookie)\n",
    "            print('\\033[94mHost: \\x1B[37m',pkt.http.host)\n",
    "            print('\\033[94mSource address: \\x1B[37m',pkt.ip.src)\n",
    "            print('\\033[94mDestination address: \\x1B[37m',pkt.ip.dst)\n",
    "            print('\\n\\x1B[35m-------------------------------------------------------------------------\\n')\n",
    "        if 'set_cookie' in pkt.http.field_names:\n",
    "            print('\\033[94mCookie: \\x1B[37m',pkt.http.set_cookie)\n",
    "            if 'server' in pkt.http.field_names:\n",
    "                print('\\033[94mServer: \\x1B[37m',pkt.http.server)\n",
    "            print('\\033[94mSource address: \\x1B[37m',pkt.ip.src)\n",
    "            print('\\033[94mDestination address: \\x1B[37m',pkt.ip.dst)\n",
    "            print('\\n\\x1B[35m-------------------------------------------------------------------------\\n')\n",
    "    except:\n",
    "        pass"
   ],
   "outputs": [],
   "metadata": {}
  }
 ],
 "metadata": {
  "orig_nbformat": 4,
  "language_info": {
   "name": "python",
   "version": "3.8.10",
   "mimetype": "text/x-python",
   "codemirror_mode": {
    "name": "ipython",
    "version": 3
   },
   "pygments_lexer": "ipython3",
   "nbconvert_exporter": "python",
   "file_extension": ".py"
  },
  "kernelspec": {
   "name": "python3",
   "display_name": "Python 3.8.10 64-bit ('cn-env': venv)"
  },
  "interpreter": {
   "hash": "33f992c3698aa23e671d6f1d74928356165c2a6095422fdcefb300947ec7b8f0"
  }
 },
 "nbformat": 4,
 "nbformat_minor": 2
}